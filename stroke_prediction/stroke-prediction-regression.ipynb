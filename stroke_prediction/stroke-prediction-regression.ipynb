{
 "cells": [
  {
   "cell_type": "code",
   "execution_count": 1,
   "id": "greenhouse-retro",
   "metadata": {
    "_cell_guid": "b1076dfc-b9ad-4769-8c92-a6c4dae69d19",
    "_uuid": "8f2839f25d086af736a60e9eeb907d3b93b6e0e5",
    "execution": {
     "iopub.execute_input": "2021-05-05T06:57:01.139071Z",
     "iopub.status.busy": "2021-05-05T06:57:01.138383Z",
     "iopub.status.idle": "2021-05-05T06:57:01.150210Z",
     "shell.execute_reply": "2021-05-05T06:57:01.149495Z"
    },
    "papermill": {
     "duration": 0.048526,
     "end_time": "2021-05-05T06:57:01.150428",
     "exception": false,
     "start_time": "2021-05-05T06:57:01.101902",
     "status": "completed"
    },
    "tags": []
   },
   "outputs": [
    {
     "name": "stdout",
     "output_type": "stream",
     "text": [
      "/kaggle/input/stroke-prediction-dataset/healthcare-dataset-stroke-data.csv\n"
     ]
    }
   ],
   "source": [
    "# This Python 3 environment comes with many helpful analytics libraries installed\n",
    "# It is defined by the kaggle/python Docker image: https://github.com/kaggle/docker-python\n",
    "# For example, here's several helpful packages to load\n",
    "\n",
    "import numpy as np # linear algebra\n",
    "import pandas as pd # data processing, CSV file I/O (e.g. pd.read_csv)\n",
    "\n",
    "# Input data files are available in the read-only \"../input/\" directory\n",
    "# For example, running this (by clicking run or pressing Shift+Enter) will list all files under the input directory\n",
    "\n",
    "import os\n",
    "for dirname, _, filenames in os.walk('/kaggle/input'):\n",
    "    for filename in filenames:\n",
    "        print(os.path.join(dirname, filename))\n",
    "\n",
    "# You can write up to 20GB to the current directory (/kaggle/working/) that gets preserved as output when you create a version using \"Save & Run All\" \n",
    "# You can also write temporary files to /kaggle/temp/, but they won't be saved outside of the current session"
   ]
  },
  {
   "cell_type": "markdown",
   "id": "horizontal-northwest",
   "metadata": {
    "papermill": {
     "duration": 0.023672,
     "end_time": "2021-05-05T06:57:01.198444",
     "exception": false,
     "start_time": "2021-05-05T06:57:01.174772",
     "status": "completed"
    },
    "tags": []
   },
   "source": [
    "# Read and check data"
   ]
  },
  {
   "cell_type": "code",
   "execution_count": 2,
   "id": "intelligent-simple",
   "metadata": {
    "execution": {
     "iopub.execute_input": "2021-05-05T06:57:01.251911Z",
     "iopub.status.busy": "2021-05-05T06:57:01.251226Z",
     "iopub.status.idle": "2021-05-05T06:57:01.312950Z",
     "shell.execute_reply": "2021-05-05T06:57:01.312316Z"
    },
    "papermill": {
     "duration": 0.089963,
     "end_time": "2021-05-05T06:57:01.313114",
     "exception": false,
     "start_time": "2021-05-05T06:57:01.223151",
     "status": "completed"
    },
    "tags": []
   },
   "outputs": [
    {
     "data": {
      "text/html": [
       "<div>\n",
       "<style scoped>\n",
       "    .dataframe tbody tr th:only-of-type {\n",
       "        vertical-align: middle;\n",
       "    }\n",
       "\n",
       "    .dataframe tbody tr th {\n",
       "        vertical-align: top;\n",
       "    }\n",
       "\n",
       "    .dataframe thead th {\n",
       "        text-align: right;\n",
       "    }\n",
       "</style>\n",
       "<table border=\"1\" class=\"dataframe\">\n",
       "  <thead>\n",
       "    <tr style=\"text-align: right;\">\n",
       "      <th></th>\n",
       "      <th>id</th>\n",
       "      <th>gender</th>\n",
       "      <th>age</th>\n",
       "      <th>hypertension</th>\n",
       "      <th>heart_disease</th>\n",
       "      <th>ever_married</th>\n",
       "      <th>work_type</th>\n",
       "      <th>Residence_type</th>\n",
       "      <th>avg_glucose_level</th>\n",
       "      <th>bmi</th>\n",
       "      <th>smoking_status</th>\n",
       "      <th>stroke</th>\n",
       "    </tr>\n",
       "  </thead>\n",
       "  <tbody>\n",
       "    <tr>\n",
       "      <th>0</th>\n",
       "      <td>9046</td>\n",
       "      <td>Male</td>\n",
       "      <td>67.0</td>\n",
       "      <td>0</td>\n",
       "      <td>1</td>\n",
       "      <td>Yes</td>\n",
       "      <td>Private</td>\n",
       "      <td>Urban</td>\n",
       "      <td>228.69</td>\n",
       "      <td>36.6</td>\n",
       "      <td>formerly smoked</td>\n",
       "      <td>1</td>\n",
       "    </tr>\n",
       "    <tr>\n",
       "      <th>1</th>\n",
       "      <td>51676</td>\n",
       "      <td>Female</td>\n",
       "      <td>61.0</td>\n",
       "      <td>0</td>\n",
       "      <td>0</td>\n",
       "      <td>Yes</td>\n",
       "      <td>Self-employed</td>\n",
       "      <td>Rural</td>\n",
       "      <td>202.21</td>\n",
       "      <td>NaN</td>\n",
       "      <td>never smoked</td>\n",
       "      <td>1</td>\n",
       "    </tr>\n",
       "    <tr>\n",
       "      <th>2</th>\n",
       "      <td>31112</td>\n",
       "      <td>Male</td>\n",
       "      <td>80.0</td>\n",
       "      <td>0</td>\n",
       "      <td>1</td>\n",
       "      <td>Yes</td>\n",
       "      <td>Private</td>\n",
       "      <td>Rural</td>\n",
       "      <td>105.92</td>\n",
       "      <td>32.5</td>\n",
       "      <td>never smoked</td>\n",
       "      <td>1</td>\n",
       "    </tr>\n",
       "    <tr>\n",
       "      <th>3</th>\n",
       "      <td>60182</td>\n",
       "      <td>Female</td>\n",
       "      <td>49.0</td>\n",
       "      <td>0</td>\n",
       "      <td>0</td>\n",
       "      <td>Yes</td>\n",
       "      <td>Private</td>\n",
       "      <td>Urban</td>\n",
       "      <td>171.23</td>\n",
       "      <td>34.4</td>\n",
       "      <td>smokes</td>\n",
       "      <td>1</td>\n",
       "    </tr>\n",
       "    <tr>\n",
       "      <th>4</th>\n",
       "      <td>1665</td>\n",
       "      <td>Female</td>\n",
       "      <td>79.0</td>\n",
       "      <td>1</td>\n",
       "      <td>0</td>\n",
       "      <td>Yes</td>\n",
       "      <td>Self-employed</td>\n",
       "      <td>Rural</td>\n",
       "      <td>174.12</td>\n",
       "      <td>24.0</td>\n",
       "      <td>never smoked</td>\n",
       "      <td>1</td>\n",
       "    </tr>\n",
       "  </tbody>\n",
       "</table>\n",
       "</div>"
      ],
      "text/plain": [
       "      id  gender   age  hypertension  heart_disease ever_married  \\\n",
       "0   9046    Male  67.0             0              1          Yes   \n",
       "1  51676  Female  61.0             0              0          Yes   \n",
       "2  31112    Male  80.0             0              1          Yes   \n",
       "3  60182  Female  49.0             0              0          Yes   \n",
       "4   1665  Female  79.0             1              0          Yes   \n",
       "\n",
       "       work_type Residence_type  avg_glucose_level   bmi   smoking_status  \\\n",
       "0        Private          Urban             228.69  36.6  formerly smoked   \n",
       "1  Self-employed          Rural             202.21   NaN     never smoked   \n",
       "2        Private          Rural             105.92  32.5     never smoked   \n",
       "3        Private          Urban             171.23  34.4           smokes   \n",
       "4  Self-employed          Rural             174.12  24.0     never smoked   \n",
       "\n",
       "   stroke  \n",
       "0       1  \n",
       "1       1  \n",
       "2       1  \n",
       "3       1  \n",
       "4       1  "
      ]
     },
     "execution_count": 2,
     "metadata": {},
     "output_type": "execute_result"
    }
   ],
   "source": [
    "stroke_data = pd.read_csv('../input/stroke-prediction-dataset/healthcare-dataset-stroke-data.csv')\n",
    "stroke_data.head()"
   ]
  },
  {
   "cell_type": "code",
   "execution_count": 3,
   "id": "apart-idaho",
   "metadata": {
    "execution": {
     "iopub.execute_input": "2021-05-05T06:57:01.377974Z",
     "iopub.status.busy": "2021-05-05T06:57:01.370907Z",
     "iopub.status.idle": "2021-05-05T06:57:01.396204Z",
     "shell.execute_reply": "2021-05-05T06:57:01.395549Z"
    },
    "papermill": {
     "duration": 0.058996,
     "end_time": "2021-05-05T06:57:01.396391",
     "exception": false,
     "start_time": "2021-05-05T06:57:01.337395",
     "status": "completed"
    },
    "tags": []
   },
   "outputs": [
    {
     "name": "stdout",
     "output_type": "stream",
     "text": [
      "<class 'pandas.core.frame.DataFrame'>\n",
      "RangeIndex: 5110 entries, 0 to 5109\n",
      "Data columns (total 12 columns):\n",
      " #   Column             Non-Null Count  Dtype  \n",
      "---  ------             --------------  -----  \n",
      " 0   id                 5110 non-null   int64  \n",
      " 1   gender             5110 non-null   object \n",
      " 2   age                5110 non-null   float64\n",
      " 3   hypertension       5110 non-null   int64  \n",
      " 4   heart_disease      5110 non-null   int64  \n",
      " 5   ever_married       5110 non-null   object \n",
      " 6   work_type          5110 non-null   object \n",
      " 7   Residence_type     5110 non-null   object \n",
      " 8   avg_glucose_level  5110 non-null   float64\n",
      " 9   bmi                4909 non-null   float64\n",
      " 10  smoking_status     5110 non-null   object \n",
      " 11  stroke             5110 non-null   int64  \n",
      "dtypes: float64(3), int64(4), object(5)\n",
      "memory usage: 479.2+ KB\n"
     ]
    }
   ],
   "source": [
    "stroke_data.info()"
   ]
  },
  {
   "cell_type": "markdown",
   "id": "finnish-gazette",
   "metadata": {
    "papermill": {
     "duration": 0.025696,
     "end_time": "2021-05-05T06:57:01.447225",
     "exception": false,
     "start_time": "2021-05-05T06:57:01.421529",
     "status": "completed"
    },
    "tags": []
   },
   "source": [
    "# Some visual analysis"
   ]
  },
  {
   "cell_type": "code",
   "execution_count": 4,
   "id": "dried-luxembourg",
   "metadata": {
    "execution": {
     "iopub.execute_input": "2021-05-05T06:57:01.501436Z",
     "iopub.status.busy": "2021-05-05T06:57:01.500749Z",
     "iopub.status.idle": "2021-05-05T06:57:02.514877Z",
     "shell.execute_reply": "2021-05-05T06:57:02.514293Z"
    },
    "papermill": {
     "duration": 1.043165,
     "end_time": "2021-05-05T06:57:02.515041",
     "exception": false,
     "start_time": "2021-05-05T06:57:01.471876",
     "status": "completed"
    },
    "tags": []
   },
   "outputs": [],
   "source": [
    "import seaborn as sns\n",
    "import matplotlib.pyplot as plt\n"
   ]
  },
  {
   "cell_type": "code",
   "execution_count": 5,
   "id": "guided-alloy",
   "metadata": {
    "execution": {
     "iopub.execute_input": "2021-05-05T06:57:02.571335Z",
     "iopub.status.busy": "2021-05-05T06:57:02.570643Z",
     "iopub.status.idle": "2021-05-05T06:57:02.888087Z",
     "shell.execute_reply": "2021-05-05T06:57:02.887495Z"
    },
    "papermill": {
     "duration": 0.347803,
     "end_time": "2021-05-05T06:57:02.888235",
     "exception": false,
     "start_time": "2021-05-05T06:57:02.540432",
     "status": "completed"
    },
    "tags": []
   },
   "outputs": [
    {
     "data": {
      "text/plain": [
       "<matplotlib.legend.Legend at 0x7f4a86de8310>"
      ]
     },
     "execution_count": 5,
     "metadata": {},
     "output_type": "execute_result"
    },
    {
     "data": {
      "image/png": "[encoded data removed]",
      "text/plain": [
       "<Figure size 432x288 with 1 Axes>"
      ]
     },
     "metadata": {
      "needs_background": "light"
     },
     "output_type": "display_data"
    }
   ],
   "source": [
    "sns.kdeplot(data = stroke_data[stroke_data[\"stroke\"]==0],x = \"age\",shade = True,label = \"Healthy\")\n",
    "sns.kdeplot(data = stroke_data[stroke_data[\"stroke\"]==1],x = \"age\",shade = True,label = \"Stroke\")\n",
    "plt.legend()\n"
   ]
  },
  {
   "cell_type": "markdown",
   "id": "devoted-mileage",
   "metadata": {
    "papermill": {
     "duration": 0.029044,
     "end_time": "2021-05-05T06:57:02.943645",
     "exception": false,
     "start_time": "2021-05-05T06:57:02.914601",
     "status": "completed"
    },
    "tags": []
   },
   "source": [
    "## Conclusions:\n",
    "* Most stroke patients are roughly above 40 years of age and married.\n",
    "* Chances of getting a stroke is less for people below the age of 25\n",
    "* People below the age of 30 don't get married that often"
   ]
  },
  {
   "cell_type": "code",
   "execution_count": 6,
   "id": "focal-jason",
   "metadata": {
    "execution": {
     "iopub.execute_input": "2021-05-05T06:57:03.011895Z",
     "iopub.status.busy": "2021-05-05T06:57:03.008812Z",
     "iopub.status.idle": "2021-05-05T06:57:03.277574Z",
     "shell.execute_reply": "2021-05-05T06:57:03.276660Z"
    },
    "papermill": {
     "duration": 0.303005,
     "end_time": "2021-05-05T06:57:03.277731",
     "exception": false,
     "start_time": "2021-05-05T06:57:02.974726",
     "status": "completed"
    },
    "tags": []
   },
   "outputs": [
    {
     "data": {
      "text/plain": [
       "<matplotlib.legend.Legend at 0x7f4a7aab0050>"
      ]
     },
     "execution_count": 6,
     "metadata": {},
     "output_type": "execute_result"
    },
    {
     "data": {
      "image/png": "[encoded data removed]",
      "text/plain": [
       "<Figure size 432x288 with 1 Axes>"
      ]
     },
     "metadata": {
      "needs_background": "light"
     },
     "output_type": "display_data"
    }
   ],
   "source": [
    "\n",
    "sns.kdeplot(data = stroke_data[stroke_data['stroke'] == 0], x = 'avg_glucose_level', shade = True,   label = \"Healthy\")\n",
    "sns.kdeplot(data = stroke_data[stroke_data['stroke'] == 1], x = 'avg_glucose_level', shade = True,   label = \"Stroke\")\n",
    "plt.legend()"
   ]
  },
  {
   "cell_type": "code",
   "execution_count": 7,
   "id": "comic-ethiopia",
   "metadata": {
    "execution": {
     "iopub.execute_input": "2021-05-05T06:57:03.348725Z",
     "iopub.status.busy": "2021-05-05T06:57:03.344945Z",
     "iopub.status.idle": "2021-05-05T06:57:08.322647Z",
     "shell.execute_reply": "2021-05-05T06:57:08.321915Z"
    },
    "papermill": {
     "duration": 5.015771,
     "end_time": "2021-05-05T06:57:08.322797",
     "exception": false,
     "start_time": "2021-05-05T06:57:03.307026",
     "status": "completed"
    },
    "tags": []
   },
   "outputs": [
    {
     "data": {
      "text/plain": [
       "<AxesSubplot:xlabel='stroke', ylabel='age'>"
      ]
     },
     "execution_count": 7,
     "metadata": {},
     "output_type": "execute_result"
    },
    {
     "data": {
      "image/png": "[encoded data removed]",
      "text/plain": [
       "<Figure size 432x288 with 1 Axes>"
      ]
     },
     "metadata": {
      "needs_background": "light"
     },
     "output_type": "display_data"
    }
   ],
   "source": [
    "sns.kdeplot(x = stroke_data.stroke,y = stroke_data.age,hue = stroke_data.Residence_type,shade = True,alpha = 0.5)"
   ]
  },
  {
   "cell_type": "markdown",
   "id": "operational-centre",
   "metadata": {
    "papermill": {
     "duration": 0.031515,
     "end_time": "2021-05-05T06:57:08.386049",
     "exception": false,
     "start_time": "2021-05-05T06:57:08.354534",
     "status": "completed"
    },
    "tags": []
   },
   "source": [
    "## Conclusion:\n",
    "* Doesn't matter if you are in urban or rural area."
   ]
  },
  {
   "cell_type": "code",
   "execution_count": 8,
   "id": "rotary-candy",
   "metadata": {
    "execution": {
     "iopub.execute_input": "2021-05-05T06:57:08.455736Z",
     "iopub.status.busy": "2021-05-05T06:57:08.454926Z",
     "iopub.status.idle": "2021-05-05T06:57:13.826552Z",
     "shell.execute_reply": "2021-05-05T06:57:13.825931Z"
    },
    "papermill": {
     "duration": 5.411247,
     "end_time": "2021-05-05T06:57:13.826697",
     "exception": false,
     "start_time": "2021-05-05T06:57:08.415450",
     "status": "completed"
    },
    "tags": []
   },
   "outputs": [
    {
     "name": "stderr",
     "output_type": "stream",
     "text": [
      "/opt/conda/lib/python3.7/site-packages/seaborn/distributions.py:1078: UserWarning: Dataset has 0 variance; skipping density estimate.\n",
      "  warnings.warn(msg, UserWarning)\n"
     ]
    },
    {
     "data": {
      "text/plain": [
       "<seaborn.axisgrid.FacetGrid at 0x7f4a7a92ce10>"
      ]
     },
     "execution_count": 8,
     "metadata": {},
     "output_type": "execute_result"
    },
    {
     "data": {
      "image/png": "[encoded data removed]",
      "text/plain": [
       "<Figure size 467.25x360 with 1 Axes>"
      ]
     },
     "metadata": {
      "needs_background": "light"
     },
     "output_type": "display_data"
    }
   ],
   "source": [
    "sns.displot(x = stroke_data.stroke,y = stroke_data.age,hue = stroke_data.work_type,kind = 'kde',fill = True,alpha = 0.5)"
   ]
  },
  {
   "cell_type": "markdown",
   "id": "dramatic-server",
   "metadata": {
    "papermill": {
     "duration": 0.030467,
     "end_time": "2021-05-05T06:57:13.892197",
     "exception": false,
     "start_time": "2021-05-05T06:57:13.861730",
     "status": "completed"
    },
    "tags": []
   },
   "source": [
    "## Conclusion\n",
    "* People worked in govt jobs are not prone to stroke"
   ]
  },
  {
   "cell_type": "code",
   "execution_count": 9,
   "id": "chubby-momentum",
   "metadata": {
    "execution": {
     "iopub.execute_input": "2021-05-05T06:57:13.985955Z",
     "iopub.status.busy": "2021-05-05T06:57:13.963859Z",
     "iopub.status.idle": "2021-05-05T06:57:14.229510Z",
     "shell.execute_reply": "2021-05-05T06:57:14.230038Z"
    },
    "papermill": {
     "duration": 0.305505,
     "end_time": "2021-05-05T06:57:14.230214",
     "exception": false,
     "start_time": "2021-05-05T06:57:13.924709",
     "status": "completed"
    },
    "tags": []
   },
   "outputs": [
    {
     "data": {
      "text/plain": [
       "<matplotlib.legend.Legend at 0x7f4a7a48fc50>"
      ]
     },
     "execution_count": 9,
     "metadata": {},
     "output_type": "execute_result"
    },
    {
     "data": {
      "image/png": "[encoded data removed]",
      "text/plain": [
       "<Figure size 432x288 with 2 Axes>"
      ]
     },
     "metadata": {
      "needs_background": "light"
     },
     "output_type": "display_data"
    }
   ],
   "source": [
    "h = stroke_data[stroke_data['stroke']==0].smoking_status.value_counts()\n",
    "s = stroke_data[stroke_data['stroke']==1].smoking_status.value_counts()\n",
    "plt.subplot(2,1,1)\n",
    "plt.bar(h.index,height = h.values,width = 0.2,label = \"healthy\",color = \"green\")\n",
    "plt.legend()\n",
    "plt.subplot(2,1,2)\n",
    "plt.bar(s.index,height = s.values,width = 0.2,label = \"stroke\",color = \"magenta\")\n",
    "plt.legend()\n",
    "\n",
    "\n",
    "\n",
    "#sns.histplot(data = stroke_data,x = 'stroke',y = 'age',hue = 'smoking_status')"
   ]
  },
  {
   "cell_type": "code",
   "execution_count": 10,
   "id": "intellectual-combat",
   "metadata": {
    "execution": {
     "iopub.execute_input": "2021-05-05T06:57:14.311805Z",
     "iopub.status.busy": "2021-05-05T06:57:14.306085Z",
     "iopub.status.idle": "2021-05-05T06:57:14.833940Z",
     "shell.execute_reply": "2021-05-05T06:57:14.832964Z"
    },
    "papermill": {
     "duration": 0.57081,
     "end_time": "2021-05-05T06:57:14.834094",
     "exception": false,
     "start_time": "2021-05-05T06:57:14.263284",
     "status": "completed"
    },
    "tags": []
   },
   "outputs": [
    {
     "data": {
      "text/plain": [
       "<seaborn.axisgrid.FacetGrid at 0x7f4a7a9e1fd0>"
      ]
     },
     "execution_count": 10,
     "metadata": {},
     "output_type": "execute_result"
    },
    {
     "data": {
      "image/png": "[encoded data removed]",
      "text/plain": [
       "<Figure size 402.375x360 with 1 Axes>"
      ]
     },
     "metadata": {
      "needs_background": "light"
     },
     "output_type": "display_data"
    }
   ],
   "source": [
    "sns.displot(data = stroke_data,x = 'age',y = 'gender',hue = 'stroke')"
   ]
  },
  {
   "cell_type": "code",
   "execution_count": 11,
   "id": "final-variable",
   "metadata": {
    "execution": {
     "iopub.execute_input": "2021-05-05T06:57:14.927106Z",
     "iopub.status.busy": "2021-05-05T06:57:14.907699Z",
     "iopub.status.idle": "2021-05-05T06:57:15.178143Z",
     "shell.execute_reply": "2021-05-05T06:57:15.177425Z"
    },
    "papermill": {
     "duration": 0.310779,
     "end_time": "2021-05-05T06:57:15.178298",
     "exception": false,
     "start_time": "2021-05-05T06:57:14.867519",
     "status": "completed"
    },
    "tags": []
   },
   "outputs": [
    {
     "data": {
      "text/plain": [
       "<matplotlib.legend.Legend at 0x7f4a7a4684d0>"
      ]
     },
     "execution_count": 11,
     "metadata": {},
     "output_type": "execute_result"
    },
    {
     "data": {
      "image/png": "[encoded data removed]",
      "text/plain": [
       "<Figure size 432x288 with 1 Axes>"
      ]
     },
     "metadata": {
      "needs_background": "light"
     },
     "output_type": "display_data"
    }
   ],
   "source": [
    "sns.kdeplot(data = stroke_data[stroke_data['stroke'] == 0], x = 'avg_glucose_level', shade = True,   label = \"Healthy\")\n",
    "sns.kdeplot(data = stroke_data[stroke_data['stroke'] == 1], x = 'avg_glucose_level', shade = True,   label = \"Stroke\")\n",
    "plt.legend()"
   ]
  },
  {
   "cell_type": "code",
   "execution_count": 12,
   "id": "massive-sessions",
   "metadata": {
    "execution": {
     "iopub.execute_input": "2021-05-05T06:57:15.263144Z",
     "iopub.status.busy": "2021-05-05T06:57:15.261213Z",
     "iopub.status.idle": "2021-05-05T06:57:20.668261Z",
     "shell.execute_reply": "2021-05-05T06:57:20.667162Z"
    },
    "papermill": {
     "duration": 5.451791,
     "end_time": "2021-05-05T06:57:20.668470",
     "exception": false,
     "start_time": "2021-05-05T06:57:15.216679",
     "status": "completed"
    },
    "tags": []
   },
   "outputs": [
    {
     "data": {
      "text/plain": [
       "Text(-5, -70, 'Conclusion \\n    For people who had a stroke, the bmi seems to have a major role for people aged 40-80 with single dominating peak \\n   Younger people tend to have lower bmi and older people tend to have bmi in the range 25-35 indicated by the double peak.')"
      ]
     },
     "execution_count": 12,
     "metadata": {},
     "output_type": "execute_result"
    },
    {
     "data": {
      "image/png": "[encoded data removed]",
      "text/plain": [
       "<Figure size 432x288 with 1 Axes>"
      ]
     },
     "metadata": {
      "needs_background": "light"
     },
     "output_type": "display_data"
    }
   ],
   "source": [
    "sns.kdeplot(data = stroke_data,x = 'bmi',y = 'age',hue = 'stroke',fill = True,alpha = 0.8)\n",
    "plt.text(-5,-70,\"Conclusion \\n    For people who had a stroke, the bmi seems to have a major role for people aged 40-80 with single dominating peak \\n   Younger people tend to have lower bmi and older people tend to have bmi in the range 25-35 indicated by the double peak.\",{'color':\"red\",'fontfamily':\"serif\",'fontsize':14,'fontweight':5,'linespacing':1.5})"
   ]
  },
  {
   "cell_type": "markdown",
   "id": "rolled-river",
   "metadata": {
    "papermill": {
     "duration": 0.039906,
     "end_time": "2021-05-05T06:57:20.745377",
     "exception": false,
     "start_time": "2021-05-05T06:57:20.705471",
     "status": "completed"
    },
    "tags": []
   },
   "source": [
    "## Conclusion:\n",
    "* For people who had a stroke, the bmi seems to have a major role for people aged 40-80 with single dominating peak\n",
    "* Younger people tend to have lower bmi and older people tend to have bmi in the range 25-35 indicated by the double peak."
   ]
  },
  {
   "cell_type": "code",
   "execution_count": 13,
   "id": "roman-leone",
   "metadata": {
    "execution": {
     "iopub.execute_input": "2021-05-05T06:57:20.827852Z",
     "iopub.status.busy": "2021-05-05T06:57:20.826250Z",
     "iopub.status.idle": "2021-05-05T06:57:25.713552Z",
     "shell.execute_reply": "2021-05-05T06:57:25.712843Z"
    },
    "papermill": {
     "duration": 4.931928,
     "end_time": "2021-05-05T06:57:25.713708",
     "exception": false,
     "start_time": "2021-05-05T06:57:20.781780",
     "status": "completed"
    },
    "tags": []
   },
   "outputs": [
    {
     "data": {
      "text/plain": [
       "Text(-20, -150, 'Conclusion \\n Aged people with irregular blood glucose(high or low) tend to be prone to stroke')"
      ]
     },
     "execution_count": 13,
     "metadata": {},
     "output_type": "execute_result"
    },
    {
     "data": {
      "image/png": "[encoded data removed]",
      "text/plain": [
       "<Figure size 432x288 with 1 Axes>"
      ]
     },
     "metadata": {
      "needs_background": "light"
     },
     "output_type": "display_data"
    }
   ],
   "source": [
    "sns.kdeplot(data = stroke_data,x = 'age',y = 'avg_glucose_level',hue = 'stroke',fill = True,alpha = 0.8)\n",
    "plt.text(-20,-150,\"Conclusion \\n Aged people with irregular blood glucose(high or low) tend to be prone to stroke\",{'color':\"red\",'fontfamily':\"serif\",'fontsize':14,'fontweight':5,'linespacing':1.5})"
   ]
  },
  {
   "cell_type": "code",
   "execution_count": 14,
   "id": "static-blair",
   "metadata": {
    "execution": {
     "iopub.execute_input": "2021-05-05T06:57:25.810110Z",
     "iopub.status.busy": "2021-05-05T06:57:25.799992Z",
     "iopub.status.idle": "2021-05-05T06:57:31.127201Z",
     "shell.execute_reply": "2021-05-05T06:57:31.126549Z"
    },
    "papermill": {
     "duration": 5.374768,
     "end_time": "2021-05-05T06:57:31.127344",
     "exception": false,
     "start_time": "2021-05-05T06:57:25.752576",
     "status": "completed"
    },
    "tags": []
   },
   "outputs": [
    {
     "data": {
      "text/plain": [
       "<AxesSubplot:xlabel='bmi', ylabel='avg_glucose_level'>"
      ]
     },
     "execution_count": 14,
     "metadata": {},
     "output_type": "execute_result"
    },
    {
     "data": {
      "image/png": "[encoded data removed]",
      "text/plain": [
       "<Figure size 432x288 with 1 Axes>"
      ]
     },
     "metadata": {
      "needs_background": "light"
     },
     "output_type": "display_data"
    }
   ],
   "source": [
    "sns.kdeplot(data = stroke_data,x = 'bmi',y = 'avg_glucose_level',hue = 'stroke',fill = True,alpha = 0.8)\n"
   ]
  },
  {
   "cell_type": "code",
   "execution_count": 15,
   "id": "inner-mattress",
   "metadata": {
    "execution": {
     "iopub.execute_input": "2021-05-05T06:57:31.212307Z",
     "iopub.status.busy": "2021-05-05T06:57:31.211662Z",
     "iopub.status.idle": "2021-05-05T06:57:31.220343Z",
     "shell.execute_reply": "2021-05-05T06:57:31.219810Z"
    },
    "papermill": {
     "duration": 0.053569,
     "end_time": "2021-05-05T06:57:31.220529",
     "exception": false,
     "start_time": "2021-05-05T06:57:31.166960",
     "status": "completed"
    },
    "tags": []
   },
   "outputs": [
    {
     "data": {
      "text/plain": [
       "id                   0.006388\n",
       "age                  0.245257\n",
       "hypertension         0.127904\n",
       "heart_disease        0.134914\n",
       "avg_glucose_level    0.131945\n",
       "bmi                  0.042374\n",
       "stroke               1.000000\n",
       "Name: stroke, dtype: float64"
      ]
     },
     "execution_count": 15,
     "metadata": {},
     "output_type": "execute_result"
    }
   ],
   "source": [
    "correlation_matrix = stroke_data.corr()\n",
    "correlation_matrix[\"stroke\"]"
   ]
  },
  {
   "cell_type": "markdown",
   "id": "addressed-feeling",
   "metadata": {
    "papermill": {
     "duration": 0.040102,
     "end_time": "2021-05-05T06:57:31.301549",
     "exception": false,
     "start_time": "2021-05-05T06:57:31.261447",
     "status": "completed"
    },
    "tags": []
   },
   "source": [
    "# Cleaning the data"
   ]
  },
  {
   "cell_type": "code",
   "execution_count": 16,
   "id": "lesser-george",
   "metadata": {
    "execution": {
     "iopub.execute_input": "2021-05-05T06:57:31.389099Z",
     "iopub.status.busy": "2021-05-05T06:57:31.388427Z",
     "iopub.status.idle": "2021-05-05T06:57:31.393244Z",
     "shell.execute_reply": "2021-05-05T06:57:31.392712Z"
    },
    "papermill": {
     "duration": 0.051862,
     "end_time": "2021-05-05T06:57:31.393433",
     "exception": false,
     "start_time": "2021-05-05T06:57:31.341571",
     "status": "completed"
    },
    "tags": []
   },
   "outputs": [],
   "source": [
    "stroke_labels = stroke_data[\"stroke\"].copy()\n",
    "stroke_data_drop = stroke_data.drop([\"bmi\",\"Residence_type\",\"id\",\"stroke\"],axis = 1)"
   ]
  },
  {
   "cell_type": "code",
   "execution_count": 17,
   "id": "naked-auction",
   "metadata": {
    "execution": {
     "iopub.execute_input": "2021-05-05T06:57:31.490087Z",
     "iopub.status.busy": "2021-05-05T06:57:31.489108Z",
     "iopub.status.idle": "2021-05-05T06:57:31.493616Z",
     "shell.execute_reply": "2021-05-05T06:57:31.493108Z"
    },
    "papermill": {
     "duration": 0.060212,
     "end_time": "2021-05-05T06:57:31.493768",
     "exception": false,
     "start_time": "2021-05-05T06:57:31.433556",
     "status": "completed"
    },
    "tags": []
   },
   "outputs": [
    {
     "data": {
      "text/html": [
       "<div>\n",
       "<style scoped>\n",
       "    .dataframe tbody tr th:only-of-type {\n",
       "        vertical-align: middle;\n",
       "    }\n",
       "\n",
       "    .dataframe tbody tr th {\n",
       "        vertical-align: top;\n",
       "    }\n",
       "\n",
       "    .dataframe thead th {\n",
       "        text-align: right;\n",
       "    }\n",
       "</style>\n",
       "<table border=\"1\" class=\"dataframe\">\n",
       "  <thead>\n",
       "    <tr style=\"text-align: right;\">\n",
       "      <th></th>\n",
       "      <th>gender</th>\n",
       "      <th>age</th>\n",
       "      <th>hypertension</th>\n",
       "      <th>heart_disease</th>\n",
       "      <th>ever_married</th>\n",
       "      <th>work_type</th>\n",
       "      <th>avg_glucose_level</th>\n",
       "      <th>smoking_status</th>\n",
       "    </tr>\n",
       "  </thead>\n",
       "  <tbody>\n",
       "    <tr>\n",
       "      <th>0</th>\n",
       "      <td>Male</td>\n",
       "      <td>67.0</td>\n",
       "      <td>0</td>\n",
       "      <td>1</td>\n",
       "      <td>Yes</td>\n",
       "      <td>Private</td>\n",
       "      <td>228.69</td>\n",
       "      <td>formerly smoked</td>\n",
       "    </tr>\n",
       "    <tr>\n",
       "      <th>1</th>\n",
       "      <td>Female</td>\n",
       "      <td>61.0</td>\n",
       "      <td>0</td>\n",
       "      <td>0</td>\n",
       "      <td>Yes</td>\n",
       "      <td>Self-employed</td>\n",
       "      <td>202.21</td>\n",
       "      <td>never smoked</td>\n",
       "    </tr>\n",
       "    <tr>\n",
       "      <th>2</th>\n",
       "      <td>Male</td>\n",
       "      <td>80.0</td>\n",
       "      <td>0</td>\n",
       "      <td>1</td>\n",
       "      <td>Yes</td>\n",
       "      <td>Private</td>\n",
       "      <td>105.92</td>\n",
       "      <td>never smoked</td>\n",
       "    </tr>\n",
       "    <tr>\n",
       "      <th>3</th>\n",
       "      <td>Female</td>\n",
       "      <td>49.0</td>\n",
       "      <td>0</td>\n",
       "      <td>0</td>\n",
       "      <td>Yes</td>\n",
       "      <td>Private</td>\n",
       "      <td>171.23</td>\n",
       "      <td>smokes</td>\n",
       "    </tr>\n",
       "    <tr>\n",
       "      <th>4</th>\n",
       "      <td>Female</td>\n",
       "      <td>79.0</td>\n",
       "      <td>1</td>\n",
       "      <td>0</td>\n",
       "      <td>Yes</td>\n",
       "      <td>Self-employed</td>\n",
       "      <td>174.12</td>\n",
       "      <td>never smoked</td>\n",
       "    </tr>\n",
       "  </tbody>\n",
       "</table>\n",
       "</div>"
      ],
      "text/plain": [
       "   gender   age  hypertension  heart_disease ever_married      work_type  \\\n",
       "0    Male  67.0             0              1          Yes        Private   \n",
       "1  Female  61.0             0              0          Yes  Self-employed   \n",
       "2    Male  80.0             0              1          Yes        Private   \n",
       "3  Female  49.0             0              0          Yes        Private   \n",
       "4  Female  79.0             1              0          Yes  Self-employed   \n",
       "\n",
       "   avg_glucose_level   smoking_status  \n",
       "0             228.69  formerly smoked  \n",
       "1             202.21     never smoked  \n",
       "2             105.92     never smoked  \n",
       "3             171.23           smokes  \n",
       "4             174.12     never smoked  "
      ]
     },
     "execution_count": 17,
     "metadata": {},
     "output_type": "execute_result"
    }
   ],
   "source": [
    "stroke_data_drop.head()"
   ]
  },
  {
   "cell_type": "markdown",
   "id": "worldwide-antarctica",
   "metadata": {
    "papermill": {
     "duration": 0.042636,
     "end_time": "2021-05-05T06:57:31.578745",
     "exception": false,
     "start_time": "2021-05-05T06:57:31.536109",
     "status": "completed"
    },
    "tags": []
   },
   "source": [
    "## One hot encoding the categorical variables"
   ]
  },
  {
   "cell_type": "code",
   "execution_count": 18,
   "id": "micro-database",
   "metadata": {
    "execution": {
     "iopub.execute_input": "2021-05-05T06:57:31.671849Z",
     "iopub.status.busy": "2021-05-05T06:57:31.670825Z",
     "iopub.status.idle": "2021-05-05T06:57:31.869088Z",
     "shell.execute_reply": "2021-05-05T06:57:31.869603Z"
    },
    "papermill": {
     "duration": 0.250069,
     "end_time": "2021-05-05T06:57:31.869792",
     "exception": false,
     "start_time": "2021-05-05T06:57:31.619723",
     "status": "completed"
    },
    "tags": []
   },
   "outputs": [
    {
     "data": {
      "text/plain": [
       "<5110x14 sparse matrix of type '<class 'numpy.float64'>'\n",
       "\twith 20440 stored elements in Compressed Sparse Row format>"
      ]
     },
     "execution_count": 18,
     "metadata": {},
     "output_type": "execute_result"
    }
   ],
   "source": [
    "import sklearn\n",
    "from sklearn.preprocessing import OneHotEncoder\n",
    "stroke_data_cat = stroke_data_drop[[\"gender\",\"ever_married\",\"work_type\",\"smoking_status\"]]\n",
    "encoder = OneHotEncoder()\n",
    "stroke_1hot = encoder.fit_transform(stroke_data_cat)\n",
    "stroke_1hot"
   ]
  },
  {
   "cell_type": "code",
   "execution_count": 19,
   "id": "signal-italian",
   "metadata": {
    "execution": {
     "iopub.execute_input": "2021-05-05T06:57:31.960932Z",
     "iopub.status.busy": "2021-05-05T06:57:31.959980Z",
     "iopub.status.idle": "2021-05-05T06:57:31.965316Z",
     "shell.execute_reply": "2021-05-05T06:57:31.964649Z"
    },
    "papermill": {
     "duration": 0.05361,
     "end_time": "2021-05-05T06:57:31.965486",
     "exception": false,
     "start_time": "2021-05-05T06:57:31.911876",
     "status": "completed"
    },
    "tags": []
   },
   "outputs": [
    {
     "data": {
      "text/plain": [
       "[array(['Female', 'Male', 'Other'], dtype=object),\n",
       " array(['No', 'Yes'], dtype=object),\n",
       " array(['Govt_job', 'Never_worked', 'Private', 'Self-employed', 'children'],\n",
       "       dtype=object),\n",
       " array(['Unknown', 'formerly smoked', 'never smoked', 'smokes'],\n",
       "       dtype=object)]"
      ]
     },
     "execution_count": 19,
     "metadata": {},
     "output_type": "execute_result"
    }
   ],
   "source": [
    "encoder.categories_"
   ]
  },
  {
   "cell_type": "code",
   "execution_count": null,
   "id": "written-default",
   "metadata": {
    "papermill": {
     "duration": 0.04286,
     "end_time": "2021-05-05T06:57:32.051910",
     "exception": false,
     "start_time": "2021-05-05T06:57:32.009050",
     "status": "completed"
    },
    "tags": []
   },
   "outputs": [],
   "source": []
  },
  {
   "cell_type": "code",
   "execution_count": 20,
   "id": "involved-karen",
   "metadata": {
    "execution": {
     "iopub.execute_input": "2021-05-05T06:57:32.145188Z",
     "iopub.status.busy": "2021-05-05T06:57:32.144399Z",
     "iopub.status.idle": "2021-05-05T06:57:32.184104Z",
     "shell.execute_reply": "2021-05-05T06:57:32.183382Z"
    },
    "papermill": {
     "duration": 0.087686,
     "end_time": "2021-05-05T06:57:32.184267",
     "exception": false,
     "start_time": "2021-05-05T06:57:32.096581",
     "status": "completed"
    },
    "tags": []
   },
   "outputs": [],
   "source": [
    "from sklearn.compose import ColumnTransformer\n",
    "from sklearn.pipeline import Pipeline\n",
    "from sklearn.preprocessing import StandardScaler\n",
    "\n",
    "\n",
    "cat_attribs = [\"gender\",\"ever_married\",\"work_type\",\"smoking_status\"]\n",
    "num_attributes = [\"age\",\"hypertension\",\"heart_disease\",\"avg_glucose_level\"]\n",
    "\n",
    "num_pipeline = Pipeline([('std_scaler',StandardScaler())])\n",
    "full_pipeline = ColumnTransformer([(\"num\",num_pipeline,num_attributes),(\"cat\",OneHotEncoder(),cat_attribs)])\n",
    "stroke_prepared = full_pipeline.fit_transform(stroke_data_drop)"
   ]
  },
  {
   "cell_type": "markdown",
   "id": "nuclear-registration",
   "metadata": {
    "papermill": {
     "duration": 0.042377,
     "end_time": "2021-05-05T06:57:32.270061",
     "exception": false,
     "start_time": "2021-05-05T06:57:32.227684",
     "status": "completed"
    },
    "tags": []
   },
   "source": [
    "# Machine Learning"
   ]
  },
  {
   "cell_type": "code",
   "execution_count": 21,
   "id": "smooth-short",
   "metadata": {
    "execution": {
     "iopub.execute_input": "2021-05-05T06:57:32.360889Z",
     "iopub.status.busy": "2021-05-05T06:57:32.360172Z",
     "iopub.status.idle": "2021-05-05T06:57:32.473526Z",
     "shell.execute_reply": "2021-05-05T06:57:32.472910Z"
    },
    "papermill": {
     "duration": 0.161762,
     "end_time": "2021-05-05T06:57:32.473674",
     "exception": false,
     "start_time": "2021-05-05T06:57:32.311912",
     "status": "completed"
    },
    "tags": []
   },
   "outputs": [
    {
     "name": "stdout",
     "output_type": "stream",
     "text": [
      "TRAIN: [2051 2065 1201 ... 3064 1511 4232] TEST: [2820 1722 3591 ... 2654 4705 4910]\n",
      "TRAIN: [ 418 2571 4937 ... 4942 4739 3957] TEST: [ 232  182  176 ...  425 2050 2846]\n",
      "TRAIN: [1651 4282  424 ... 3415 4937 2270] TEST: [4565 2140 1248 ... 3206 2644 2891]\n",
      "TRAIN: [ 335 2631 2661 ... 4663 2654 2595] TEST: [5108 4498 3701 ...  807 4185 2182]\n",
      "TRAIN: [2318 1067 4692 ...  604 3730  493] TEST: [4052 4821 1069 ... 3924 3818 4527]\n"
     ]
    }
   ],
   "source": [
    "from sklearn.model_selection import StratifiedShuffleSplit\n",
    "\n",
    "sss = StratifiedShuffleSplit(n_splits=5, test_size=0.2, random_state=1)\n",
    "\n",
    "for train_index, test_index in sss.split(stroke_prepared, stroke_labels):\n",
    "    print(\"TRAIN:\", train_index, \"TEST:\", test_index)\n",
    "    X_train, X_test = stroke_prepared[train_index], stroke_prepared[test_index]\n",
    "    y_train, y_test = stroke_labels[train_index], stroke_labels[test_index]\n",
    "\n",
    "#X_train, X_test, y_train, y_test = train_test_split(stroke_prepared,stroke_labels, test_size=0.2, random_state=1)"
   ]
  },
  {
   "cell_type": "code",
   "execution_count": 22,
   "id": "skilled-hindu",
   "metadata": {
    "execution": {
     "iopub.execute_input": "2021-05-05T06:57:32.571413Z",
     "iopub.status.busy": "2021-05-05T06:57:32.570725Z",
     "iopub.status.idle": "2021-05-05T06:58:54.139205Z",
     "shell.execute_reply": "2021-05-05T06:58:54.140064Z"
    },
    "papermill": {
     "duration": 81.619401,
     "end_time": "2021-05-05T06:58:54.140372",
     "exception": false,
     "start_time": "2021-05-05T06:57:32.520971",
     "status": "completed"
    },
    "tags": []
   },
   "outputs": [
    {
     "name": "stdout",
     "output_type": "stream",
     "text": [
      "Iteration 1, loss = 0.54790349\n",
      "Iteration 2, loss = 0.40494414\n",
      "Iteration 3, loss = 0.36835345\n",
      "Iteration 4, loss = 0.34861997\n",
      "Iteration 5, loss = 0.33419474\n",
      "Iteration 6, loss = 0.32218195\n",
      "Iteration 7, loss = 0.31141604\n",
      "Iteration 8, loss = 0.29993179\n",
      "Iteration 9, loss = 0.28533607\n",
      "Iteration 10, loss = 0.27233107\n",
      "Iteration 11, loss = 0.26217452\n",
      "Iteration 12, loss = 0.25375747\n",
      "Iteration 13, loss = 0.24669266\n",
      "Iteration 14, loss = 0.24077432\n",
      "Iteration 15, loss = 0.23550057\n",
      "Iteration 16, loss = 0.23099555\n",
      "Iteration 17, loss = 0.22708456\n",
      "Iteration 18, loss = 0.22369938\n",
      "Iteration 19, loss = 0.22061876\n",
      "Iteration 20, loss = 0.21789565\n",
      "Iteration 21, loss = 0.21546758\n",
      "Iteration 22, loss = 0.21326314\n",
      "Iteration 23, loss = 0.21135200\n",
      "Iteration 24, loss = 0.20964277\n",
      "Iteration 25, loss = 0.20805810\n",
      "Iteration 26, loss = 0.20668823\n",
      "Iteration 27, loss = 0.20541158\n",
      "Iteration 28, loss = 0.20429577\n",
      "Iteration 29, loss = 0.20329596\n",
      "Iteration 30, loss = 0.20241156\n",
      "Iteration 31, loss = 0.20158283\n",
      "Iteration 32, loss = 0.20087182\n",
      "Iteration 33, loss = 0.20022169\n",
      "Iteration 34, loss = 0.19963973\n",
      "Iteration 35, loss = 0.19912453\n",
      "Iteration 36, loss = 0.19865106\n",
      "Iteration 37, loss = 0.19823723\n",
      "Iteration 38, loss = 0.19785417\n",
      "Iteration 39, loss = 0.19753240\n",
      "Iteration 40, loss = 0.19720285\n",
      "Iteration 41, loss = 0.19693371\n",
      "Iteration 42, loss = 0.19667158\n",
      "Iteration 43, loss = 0.19645649\n",
      "Iteration 44, loss = 0.19623824\n",
      "Iteration 45, loss = 0.19607245\n",
      "Iteration 46, loss = 0.19592409\n",
      "Iteration 47, loss = 0.19578291\n",
      "Iteration 48, loss = 0.19566166\n",
      "Iteration 49, loss = 0.19555033\n",
      "Iteration 50, loss = 0.19544657\n",
      "Iteration 51, loss = 0.19535385\n",
      "Iteration 52, loss = 0.19526743\n",
      "Iteration 53, loss = 0.19520016\n",
      "Iteration 54, loss = 0.19513370\n",
      "Iteration 55, loss = 0.19508284\n",
      "Iteration 56, loss = 0.19503353\n",
      "Iteration 57, loss = 0.19498639\n",
      "Iteration 58, loss = 0.19494828\n",
      "Iteration 59, loss = 0.19491736\n",
      "Iteration 60, loss = 0.19487800\n",
      "Iteration 61, loss = 0.19484968\n",
      "Training loss did not improve more than tol=0.000100 for 10 consecutive epochs. Stopping.\n"
     ]
    },
    {
     "data": {
      "text/plain": [
       "MLPClassifier(activation='logistic',\n",
       "              hidden_layer_sizes=(1000, 500, 500, 100, 10), random_state=1,\n",
       "              verbose=True)"
      ]
     },
     "execution_count": 22,
     "metadata": {},
     "output_type": "execute_result"
    }
   ],
   "source": [
    "from sklearn.neural_network import MLPClassifier\n",
    "clf = MLPClassifier(hidden_layer_sizes=(1000,500,500,100,10), activation = 'logistic',solver='adam', alpha=0.0001, batch_size='auto',max_iter=200, shuffle=True, random_state=1, verbose=True)\n",
    "clf.fit(X_train,y_train)"
   ]
  },
  {
   "cell_type": "code",
   "execution_count": 23,
   "id": "dimensional-bronze",
   "metadata": {
    "execution": {
     "iopub.execute_input": "2021-05-05T06:58:54.312100Z",
     "iopub.status.busy": "2021-05-05T06:58:54.310722Z",
     "iopub.status.idle": "2021-05-05T06:58:54.543417Z",
     "shell.execute_reply": "2021-05-05T06:58:54.544691Z"
    },
    "papermill": {
     "duration": 0.300448,
     "end_time": "2021-05-05T06:58:54.544965",
     "exception": false,
     "start_time": "2021-05-05T06:58:54.244517",
     "status": "completed"
    },
    "tags": []
   },
   "outputs": [
    {
     "data": {
      "text/plain": [
       "0.9510763209393346"
      ]
     },
     "execution_count": 23,
     "metadata": {},
     "output_type": "execute_result"
    }
   ],
   "source": [
    "y_pred = clf.predict(X_test)\n",
    "from sklearn.metrics import mean_squared_error\n",
    "clf.score(X_test,y_test)\n"
   ]
  },
  {
   "cell_type": "code",
   "execution_count": 24,
   "id": "promising-commonwealth",
   "metadata": {
    "execution": {
     "iopub.execute_input": "2021-05-05T06:58:54.757901Z",
     "iopub.status.busy": "2021-05-05T06:58:54.757020Z",
     "iopub.status.idle": "2021-05-05T06:58:54.867851Z",
     "shell.execute_reply": "2021-05-05T06:58:54.868456Z"
    },
    "papermill": {
     "duration": 0.212315,
     "end_time": "2021-05-05T06:58:54.868649",
     "exception": false,
     "start_time": "2021-05-05T06:58:54.656334",
     "status": "completed"
    },
    "tags": []
   },
   "outputs": [
    {
     "data": {
      "text/plain": [
       "[<matplotlib.lines.Line2D at 0x7f4a7a44ff10>]"
      ]
     },
     "execution_count": 24,
     "metadata": {},
     "output_type": "execute_result"
    },
    {
     "data": {
      "image/png": "[encoded data removed]",
      "text/plain": [
       "<Figure size 432x288 with 1 Axes>"
      ]
     },
     "metadata": {
      "needs_background": "light"
     },
     "output_type": "display_data"
    }
   ],
   "source": [
    "plt.plot(y_pred,'.')"
   ]
  },
  {
   "cell_type": "code",
   "execution_count": 25,
   "id": "unlimited-choir",
   "metadata": {
    "execution": {
     "iopub.execute_input": "2021-05-05T06:58:54.998810Z",
     "iopub.status.busy": "2021-05-05T06:58:54.998135Z",
     "iopub.status.idle": "2021-05-05T06:59:32.108462Z",
     "shell.execute_reply": "2021-05-05T06:59:32.109699Z"
    },
    "papermill": {
     "duration": 37.178589,
     "end_time": "2021-05-05T06:59:32.110142",
     "exception": false,
     "start_time": "2021-05-05T06:58:54.931553",
     "status": "completed"
    },
    "tags": []
   },
   "outputs": [
    {
     "name": "stdout",
     "output_type": "stream",
     "text": [
      "Iteration 1, loss = 0.27746087\n",
      "Iteration 2, loss = 0.22025621\n",
      "Iteration 3, loss = 0.20786020\n",
      "Iteration 4, loss = 0.20246164\n",
      "Iteration 5, loss = 0.19939405\n",
      "Iteration 6, loss = 0.19760457\n",
      "Iteration 7, loss = 0.19648398\n",
      "Iteration 8, loss = 0.19583136\n",
      "Iteration 9, loss = 0.19543148\n",
      "Iteration 10, loss = 0.19519272\n",
      "Iteration 11, loss = 0.19509502\n",
      "Iteration 12, loss = 0.19498886\n",
      "Iteration 13, loss = 0.19492373\n",
      "Iteration 14, loss = 0.19492386\n",
      "Iteration 15, loss = 0.19487089\n",
      "Iteration 16, loss = 0.19490546\n",
      "Iteration 17, loss = 0.19485858\n",
      "Iteration 18, loss = 0.19485713\n",
      "Iteration 19, loss = 0.19485736\n",
      "Iteration 20, loss = 0.19485341\n",
      "Iteration 21, loss = 0.19487641\n",
      "Iteration 22, loss = 0.19486414\n",
      "Iteration 23, loss = 0.19484103\n",
      "Training loss did not improve more than tol=0.000100 for 10 consecutive epochs. Stopping.\n"
     ]
    },
    {
     "data": {
      "text/plain": [
       "0.9512720156555773"
      ]
     },
     "execution_count": 25,
     "metadata": {},
     "output_type": "execute_result"
    }
   ],
   "source": [
    "clf.fit(stroke_data.age.to_numpy().reshape(-1,1),stroke_data.stroke)\n",
    "clf.score(stroke_data.age.to_numpy().reshape(-1,1),stroke_data.stroke)"
   ]
  },
  {
   "cell_type": "code",
   "execution_count": 26,
   "id": "different-decision",
   "metadata": {
    "execution": {
     "iopub.execute_input": "2021-05-05T06:59:32.319587Z",
     "iopub.status.busy": "2021-05-05T06:59:32.318012Z",
     "iopub.status.idle": "2021-05-05T06:59:32.329175Z",
     "shell.execute_reply": "2021-05-05T06:59:32.328016Z"
    },
    "papermill": {
     "duration": 0.088566,
     "end_time": "2021-05-05T06:59:32.329429",
     "exception": false,
     "start_time": "2021-05-05T06:59:32.240863",
     "status": "completed"
    },
    "tags": []
   },
   "outputs": [
    {
     "data": {
      "text/plain": [
       "array([0, 0, 0, 0, 0])"
      ]
     },
     "execution_count": 26,
     "metadata": {},
     "output_type": "execute_result"
    }
   ],
   "source": [
    "clf.predict(np.array([45,25,89,10,32]).reshape(-1,1))"
   ]
  },
  {
   "cell_type": "code",
   "execution_count": null,
   "id": "nutritional-vulnerability",
   "metadata": {
    "papermill": {
     "duration": 0.074584,
     "end_time": "2021-05-05T06:59:32.532739",
     "exception": false,
     "start_time": "2021-05-05T06:59:32.458155",
     "status": "completed"
    },
    "tags": []
   },
   "outputs": [],
   "source": []
  }
 ],
 "metadata": {
  "kernelspec": {
   "display_name": "Python 3",
   "language": "python",
   "name": "python3"
  },
  "language_info": {
   "codemirror_mode": {
    "name": "ipython",
    "version": 3
   },
   "file_extension": ".py",
   "mimetype": "text/x-python",
   "name": "python",
   "nbconvert_exporter": "python",
   "pygments_lexer": "ipython3",
   "version": "3.7.10"
  },
  "papermill": {
   "default_parameters": {},
   "duration": 162.084008,
   "end_time": "2021-05-05T06:59:34.043222",
   "environment_variables": {},
   "exception": null,
   "input_path": "__notebook__.ipynb",
   "output_path": "__notebook__.ipynb",
   "parameters": {},
   "start_time": "2021-05-05T06:56:51.959214",
   "version": "2.3.3"
  }
 },
 "nbformat": 4,
 "nbformat_minor": 5
}
